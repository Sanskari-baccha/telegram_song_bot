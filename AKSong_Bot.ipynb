{
 "cells": [
  {
   "cell_type": "code",
   "execution_count": 1,
   "metadata": {
    "collapsed": false
   },
   "outputs": [],
   "source": [
    "import telepot\n",
    "import bs4\n",
    "import requests\n",
    "import youtube_dl"
   ]
  },
  {
   "cell_type": "code",
   "execution_count": 2,
   "metadata": {
    "collapsed": false
   },
   "outputs": [],
   "source": [
    "bot = telepot.Bot('api_key')"
   ]
  },
  {
   "cell_type": "code",
   "execution_count": 3,
   "metadata": {
    "collapsed": false
   },
   "outputs": [
   ],
   "source": [
    "bot.getMe()"
   ]
  },
  {
   "cell_type": "code",
   "execution_count": 4,
   "metadata": {
    "collapsed": false
   },
   "outputs": [],
   "source": [
    "def my_hook(d):\n",
    "    if d['status'] == 'finished':\n",
    "        print('Done downloading, now converting ...')\n",
    "\n",
    "\n",
    "ydl_opts = {\n",
    "    'format': 'bestaudio/best',\n",
    "    'postprocessors': [{\n",
    "        'key': 'FFmpegExtractAudio',\n",
    "        'preferredcodec': 'mp3',\n",
    "        'preferredquality': '192',\n",
    "    }],\n",
    "    'progress_hooks': [my_hook],\n",
    "}"
   ]
  },
  {
   "cell_type": "code",
   "execution_count": 5,
   "metadata": {
    "collapsed": false,
    "scrolled": true
   },
   "outputs": [],
   "source": [
    "base_url = \"https://www.youtube.com/results?search_query=\"\n",
    "def handle(msg):\n",
    "    content_type, chat_type, chat_id = telepot.glance(msg)\n",
    "    print(content_type, chat_type, chat_id)\n",
    "\n",
    "    if content_type == 'text':\n",
    "        if msg['text'] != \"/start\":\n",
    "            print(\"received request from:\" + str(chat_id))\n",
    "            bot.sendMessage(chat_id, msg['text']+\" is being downloaded...\")\n",
    "            song_name = msg['text']\n",
    "            search_query = song_name.replace(\" \", '+')+\"+full+audio\"\n",
    "            url = base_url+search_query\n",
    "#             print(url)\n",
    "            r = requests.get(url)\n",
    "            soup = bs4.BeautifulSoup(r.text,'lxml')\n",
    "            z = soup.select(\"div > a\")\n",
    "#             print(\"2: \"+z[2]['href'])\n",
    "#             print(\"3: \"+z[3]['href'])\n",
    "#             print(\"4: \"+z[4]['href'])\n",
    "#             print(\"5: \"+z[5]['href'])\n",
    "            if (\"full+audio\" in z[2]['href']):\n",
    "                if (\"watch\" in z[3]['href']):\n",
    "                    song_url = \"https://www.youtube.com\"+z[3]['href']\n",
    "                else:\n",
    "                    song_url = \"https://www.youtube.com\"+z[4]['href']\n",
    "            else:\n",
    "                song_url = \"https://www.youtube.com\"+z[2]['href']\n",
    "            song_name = str(chat_id) + \"_\" + msg['text'] + \"_.mp3\"\n",
    "            print(\"song_url: \"+song_url)\n",
    "            ydl_opts['outtmpl'] = str(chat_id) + \"_\" + msg['text'] + '_.%(ext)s'\n",
    "            with youtube_dl.YoutubeDL(ydl_opts) as ydl:\n",
    "                ydl.download([song_url])\n",
    "            print(\"Song downloaded...\")\n",
    "            audio = open(song_name,'rb')\n",
    "            bot.sendMessage(chat_id, \"Download Complete....Sending you the song\")\n",
    "            print(\"Sending...\")\n",
    "            bot.sendAudio(chat_id, audio,title=ydl.extract_info(song_url, download=False)['title'])\n",
    "            print(\"Sent...!!!\")\n",
    "        else:\n",
    "            bot.sendMessage(chat_id, \"You can now send names of song you want to download...\")\n",
    "            "
   ]
  },
  {
   "cell_type": "code",
   "execution_count": 6,
   "metadata": {
    "collapsed": false,
    "scrolled": true
   },
   "outputs": [],
   "source": [
    "bot.message_loop(handle)"
   ]
  },
  {
   "cell_type": "code",
   "execution_count": null,
   "metadata": {
    "collapsed": false
   },
   "outputs": [],
   "source": []
  },
  {
   "cell_type": "code",
   "execution_count": null,
   "metadata": {
    "collapsed": true
   },
   "outputs": [],
   "source": []
  }
 ],
 "metadata": {
  "kernelspec": {
   "display_name": "Python 3",
   "language": "python",
   "name": "python3"
  },
  "language_info": {
   "codemirror_mode": {
    "name": "ipython",
    "version": 3
   },
   "file_extension": ".py",
   "mimetype": "text/x-python",
   "name": "python",
   "nbconvert_exporter": "python",
   "pygments_lexer": "ipython3",
   "version": "3.5.2"
  }
 },
 "nbformat": 4,
 "nbformat_minor": 0
}
